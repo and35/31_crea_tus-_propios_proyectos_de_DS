{
 "cells": [
  {
   "cell_type": "code",
   "execution_count": 12,
   "id": "79ea69cc",
   "metadata": {},
   "outputs": [],
   "source": [
    "import pandas as pd\n",
    "%matplotlib inline"
   ]
  },
  {
   "cell_type": "markdown",
   "id": "abf39bad",
   "metadata": {},
   "source": [
    "# 1 limpieza y carga "
   ]
  },
  {
   "cell_type": "code",
   "execution_count": 7,
   "id": "bcf93535",
   "metadata": {},
   "outputs": [],
   "source": [
    "# 1 funcion para cargar data de hojas de excel\n",
    "def dataframe(file, sheet, rows):\n",
    "    df=pd.read_excel(file,            # archivo de excel\n",
    "                    sheet_name=sheet, # hoja \n",
    "                    skiprows=rows)    # omitimos las filas del encabezado\n",
    "    df['SHEET']=sheet  # creamos una columna para identificar la fuente de datos \n",
    "    return df\n",
    "df = pd.DataFrame()\n",
    "for s in [\"GASTOS VARIOS\",'CONTRATISTAS Y FDO FED', 'SERV PPROF', 'COMUNICACION', 'SERV. PERS.']:\n",
    "    data = dataframe(\"data/12_DICIEMBRE_2020.xlsx\", s, 5)\n",
    "    df = pd.concat([df, data]) # unimos los df de todas las hojas "
   ]
  },
  {
   "cell_type": "code",
   "execution_count": 9,
   "id": "5afade43",
   "metadata": {},
   "outputs": [
    {
     "name": "stdout",
     "output_type": "stream",
     "text": [
      "(1774, 11)\n"
     ]
    },
    {
     "data": {
      "text/html": [
       "<div>\n",
       "<style scoped>\n",
       "    .dataframe tbody tr th:only-of-type {\n",
       "        vertical-align: middle;\n",
       "    }\n",
       "\n",
       "    .dataframe tbody tr th {\n",
       "        vertical-align: top;\n",
       "    }\n",
       "\n",
       "    .dataframe thead th {\n",
       "        text-align: right;\n",
       "    }\n",
       "</style>\n",
       "<table border=\"1\" class=\"dataframe\">\n",
       "  <thead>\n",
       "    <tr style=\"text-align: right;\">\n",
       "      <th></th>\n",
       "      <th>NUM BEN</th>\n",
       "      <th>BENEFICIARIO</th>\n",
       "      <th>RFC</th>\n",
       "      <th>FACTURA</th>\n",
       "      <th>CONTRATO</th>\n",
       "      <th>CONCEPTO</th>\n",
       "      <th>TIPO</th>\n",
       "      <th># OP</th>\n",
       "      <th>FECHA</th>\n",
       "      <th>IMPORTE</th>\n",
       "      <th>SHEET</th>\n",
       "    </tr>\n",
       "  </thead>\n",
       "  <tbody>\n",
       "    <tr>\n",
       "      <th>0</th>\n",
       "      <td>110152</td>\n",
       "      <td>LLANTAS Y SERVICIOS SERNA ANAHUAC,S.A. DE C.V.</td>\n",
       "      <td>LSS841015DV3</td>\n",
       "      <td>LLS AF8458-158008-3972</td>\n",
       "      <td>OT. 20204373</td>\n",
       "      <td>REEMPLAZO E INSTALACION DE AMORTIGUADORES (DEL...</td>\n",
       "      <td>TR</td>\n",
       "      <td>1019110.0</td>\n",
       "      <td>2020-12-11</td>\n",
       "      <td>14911.8</td>\n",
       "      <td>GASTOS VARIOS</td>\n",
       "    </tr>\n",
       "    <tr>\n",
       "      <th>1</th>\n",
       "      <td>110152</td>\n",
       "      <td>LLANTAS Y SERVICIOS SERNA ANAHUAC,S.A. DE C.V.</td>\n",
       "      <td>LSS841015DV3</td>\n",
       "      <td>LLS PF6916-158008-4041</td>\n",
       "      <td>OT. 20204425</td>\n",
       "      <td>REEMPLAZO E INSTALACION DE OCHO BIRLOS Y NUEVE...</td>\n",
       "      <td>TR</td>\n",
       "      <td>1019110.0</td>\n",
       "      <td>2020-12-11</td>\n",
       "      <td>2528.8</td>\n",
       "      <td>GASTOS VARIOS</td>\n",
       "    </tr>\n",
       "  </tbody>\n",
       "</table>\n",
       "</div>"
      ],
      "text/plain": [
       "  NUM BEN                                    BENEFICIARIO           RFC  \\\n",
       "0  110152  LLANTAS Y SERVICIOS SERNA ANAHUAC,S.A. DE C.V.  LSS841015DV3   \n",
       "1  110152  LLANTAS Y SERVICIOS SERNA ANAHUAC,S.A. DE C.V.  LSS841015DV3   \n",
       "\n",
       "                  FACTURA      CONTRATO  \\\n",
       "0  LLS AF8458-158008-3972  OT. 20204373   \n",
       "1  LLS PF6916-158008-4041  OT. 20204425   \n",
       "\n",
       "                                            CONCEPTO TIPO       # OP  \\\n",
       "0  REEMPLAZO E INSTALACION DE AMORTIGUADORES (DEL...   TR  1019110.0   \n",
       "1  REEMPLAZO E INSTALACION DE OCHO BIRLOS Y NUEVE...   TR  1019110.0   \n",
       "\n",
       "       FECHA  IMPORTE          SHEET  \n",
       "0 2020-12-11  14911.8  GASTOS VARIOS  \n",
       "1 2020-12-11   2528.8  GASTOS VARIOS  "
      ]
     },
     "execution_count": 9,
     "metadata": {},
     "output_type": "execute_result"
    }
   ],
   "source": [
    "print(df.shape)\n",
    "df.head(2)"
   ]
  },
  {
   "cell_type": "code",
   "execution_count": 10,
   "id": "bd155f4e",
   "metadata": {},
   "outputs": [
    {
     "data": {
      "text/plain": [
       "(1540, 11)"
      ]
     },
     "execution_count": 10,
     "metadata": {},
     "output_type": "execute_result"
    }
   ],
   "source": [
    "# 2 eliminamos las filas con valores null\n",
    "df = df.dropna(how='any')\n",
    "df.shape"
   ]
  },
  {
   "cell_type": "code",
   "execution_count": 11,
   "id": "7169ce09",
   "metadata": {},
   "outputs": [],
   "source": [
    "# 3 guardamos la data limpia en formato CSV \n",
    "df.to_csv('data/clean_compras.csv', index=None) # no incluimos indices\n",
    "\n",
    "# df_compras_dic_com['FECHA'].apply(lambda x: x.month).value_counts() # corroborar que todos los datos sean de diciembre "
   ]
  },
  {
   "cell_type": "markdown",
   "id": "7488b31a",
   "metadata": {},
   "source": [
    "# 2 exploracion "
   ]
  },
  {
   "cell_type": "code",
   "execution_count": 15,
   "id": "24d858a4",
   "metadata": {},
   "outputs": [
    {
     "data": {
      "text/html": [
       "<div>\n",
       "<style scoped>\n",
       "    .dataframe tbody tr th:only-of-type {\n",
       "        vertical-align: middle;\n",
       "    }\n",
       "\n",
       "    .dataframe tbody tr th {\n",
       "        vertical-align: top;\n",
       "    }\n",
       "\n",
       "    .dataframe thead th {\n",
       "        text-align: right;\n",
       "    }\n",
       "</style>\n",
       "<table border=\"1\" class=\"dataframe\">\n",
       "  <thead>\n",
       "    <tr style=\"text-align: right;\">\n",
       "      <th></th>\n",
       "      <th>NUM BEN</th>\n",
       "      <th>BENEFICIARIO</th>\n",
       "      <th>RFC</th>\n",
       "      <th>FACTURA</th>\n",
       "      <th>CONTRATO</th>\n",
       "      <th>CONCEPTO</th>\n",
       "      <th>TIPO</th>\n",
       "      <th># OP</th>\n",
       "      <th>FECHA</th>\n",
       "      <th>IMPORTE</th>\n",
       "      <th>SHEET</th>\n",
       "    </tr>\n",
       "  </thead>\n",
       "  <tbody>\n",
       "    <tr>\n",
       "      <th>0</th>\n",
       "      <td>110152</td>\n",
       "      <td>LLANTAS Y SERVICIOS SERNA ANAHUAC,S.A. DE C.V.</td>\n",
       "      <td>LSS841015DV3</td>\n",
       "      <td>LLS AF8458-158008-3972</td>\n",
       "      <td>OT. 20204373</td>\n",
       "      <td>REEMPLAZO E INSTALACION DE AMORTIGUADORES (DEL...</td>\n",
       "      <td>TR</td>\n",
       "      <td>1019110.0</td>\n",
       "      <td>2020-12-11</td>\n",
       "      <td>14911.8</td>\n",
       "      <td>GASTOS VARIOS</td>\n",
       "    </tr>\n",
       "    <tr>\n",
       "      <th>1</th>\n",
       "      <td>110152</td>\n",
       "      <td>LLANTAS Y SERVICIOS SERNA ANAHUAC,S.A. DE C.V.</td>\n",
       "      <td>LSS841015DV3</td>\n",
       "      <td>LLS PF6916-158008-4041</td>\n",
       "      <td>OT. 20204425</td>\n",
       "      <td>REEMPLAZO E INSTALACION DE OCHO BIRLOS Y NUEVE...</td>\n",
       "      <td>TR</td>\n",
       "      <td>1019110.0</td>\n",
       "      <td>2020-12-11</td>\n",
       "      <td>2528.8</td>\n",
       "      <td>GASTOS VARIOS</td>\n",
       "    </tr>\n",
       "  </tbody>\n",
       "</table>\n",
       "</div>"
      ],
      "text/plain": [
       "   NUM BEN                                    BENEFICIARIO           RFC  \\\n",
       "0   110152  LLANTAS Y SERVICIOS SERNA ANAHUAC,S.A. DE C.V.  LSS841015DV3   \n",
       "1   110152  LLANTAS Y SERVICIOS SERNA ANAHUAC,S.A. DE C.V.  LSS841015DV3   \n",
       "\n",
       "                  FACTURA      CONTRATO  \\\n",
       "0  LLS AF8458-158008-3972  OT. 20204373   \n",
       "1  LLS PF6916-158008-4041  OT. 20204425   \n",
       "\n",
       "                                            CONCEPTO TIPO       # OP  \\\n",
       "0  REEMPLAZO E INSTALACION DE AMORTIGUADORES (DEL...   TR  1019110.0   \n",
       "1  REEMPLAZO E INSTALACION DE OCHO BIRLOS Y NUEVE...   TR  1019110.0   \n",
       "\n",
       "        FECHA  IMPORTE          SHEET  \n",
       "0  2020-12-11  14911.8  GASTOS VARIOS  \n",
       "1  2020-12-11   2528.8  GASTOS VARIOS  "
      ]
     },
     "execution_count": 15,
     "metadata": {},
     "output_type": "execute_result"
    }
   ],
   "source": [
    "cdf = pd.read_csv('data/clean_compras.csv')\n",
    "cdf.head(2)"
   ]
  },
  {
   "cell_type": "markdown",
   "id": "25d5ec15",
   "metadata": {},
   "source": [
    "## 2.1 Visión general del dataset"
   ]
  },
  {
   "cell_type": "code",
   "execution_count": 17,
   "id": "c2058f10",
   "metadata": {},
   "outputs": [
    {
     "data": {
      "text/plain": [
       "Index(['NUM BEN', 'BENEFICIARIO', 'RFC', 'FACTURA', 'CONTRATO', 'CONCEPTO',\n",
       "       'TIPO', '# OP', 'FECHA', 'IMPORTE', 'SHEET'],\n",
       "      dtype='object')"
      ]
     },
     "execution_count": 17,
     "metadata": {},
     "output_type": "execute_result"
    }
   ],
   "source": [
    "cdf.columns # columnas"
   ]
  },
  {
   "cell_type": "code",
   "execution_count": 24,
   "id": "6c707a4f",
   "metadata": {},
   "outputs": [
    {
     "data": {
      "text/html": [
       "<div>\n",
       "<style scoped>\n",
       "    .dataframe tbody tr th:only-of-type {\n",
       "        vertical-align: middle;\n",
       "    }\n",
       "\n",
       "    .dataframe tbody tr th {\n",
       "        vertical-align: top;\n",
       "    }\n",
       "\n",
       "    .dataframe thead th {\n",
       "        text-align: right;\n",
       "    }\n",
       "</style>\n",
       "<table border=\"1\" class=\"dataframe\">\n",
       "  <thead>\n",
       "    <tr style=\"text-align: right;\">\n",
       "      <th></th>\n",
       "      <th>NUM BEN</th>\n",
       "      <th>BENEFICIARIO</th>\n",
       "      <th>RFC</th>\n",
       "      <th>FACTURA</th>\n",
       "      <th>CONTRATO</th>\n",
       "      <th>CONCEPTO</th>\n",
       "      <th>TIPO</th>\n",
       "      <th># OP</th>\n",
       "      <th>FECHA</th>\n",
       "      <th>IMPORTE</th>\n",
       "      <th>SHEET</th>\n",
       "    </tr>\n",
       "  </thead>\n",
       "  <tbody>\n",
       "    <tr>\n",
       "      <th>0</th>\n",
       "      <td>int64</td>\n",
       "      <td>object</td>\n",
       "      <td>object</td>\n",
       "      <td>object</td>\n",
       "      <td>object</td>\n",
       "      <td>object</td>\n",
       "      <td>object</td>\n",
       "      <td>float64</td>\n",
       "      <td>object</td>\n",
       "      <td>float64</td>\n",
       "      <td>object</td>\n",
       "    </tr>\n",
       "  </tbody>\n",
       "</table>\n",
       "</div>"
      ],
      "text/plain": [
       "  NUM BEN BENEFICIARIO     RFC FACTURA CONTRATO CONCEPTO    TIPO     # OP  \\\n",
       "0   int64       object  object  object   object   object  object  float64   \n",
       "\n",
       "    FECHA  IMPORTE   SHEET  \n",
       "0  object  float64  object  "
      ]
     },
     "execution_count": 24,
     "metadata": {},
     "output_type": "execute_result"
    }
   ],
   "source": [
    "pd.DataFrame(cdf.dtypes).T # tipo de dato de cada columna, use transpuesta para mejor viz "
   ]
  },
  {
   "cell_type": "code",
   "execution_count": 20,
   "id": "4e57dd57",
   "metadata": {},
   "outputs": [
    {
     "data": {
      "text/html": [
       "<div>\n",
       "<style scoped>\n",
       "    .dataframe tbody tr th:only-of-type {\n",
       "        vertical-align: middle;\n",
       "    }\n",
       "\n",
       "    .dataframe tbody tr th {\n",
       "        vertical-align: top;\n",
       "    }\n",
       "\n",
       "    .dataframe thead th {\n",
       "        text-align: right;\n",
       "    }\n",
       "</style>\n",
       "<table border=\"1\" class=\"dataframe\">\n",
       "  <thead>\n",
       "    <tr style=\"text-align: right;\">\n",
       "      <th></th>\n",
       "      <th>NUM BEN</th>\n",
       "      <th># OP</th>\n",
       "      <th>IMPORTE</th>\n",
       "    </tr>\n",
       "  </thead>\n",
       "  <tbody>\n",
       "    <tr>\n",
       "      <th>count</th>\n",
       "      <td>1540.000000</td>\n",
       "      <td>1.540000e+03</td>\n",
       "      <td>1.540000e+03</td>\n",
       "    </tr>\n",
       "    <tr>\n",
       "      <th>mean</th>\n",
       "      <td>203914.777273</td>\n",
       "      <td>1.920050e+08</td>\n",
       "      <td>6.263179e+05</td>\n",
       "    </tr>\n",
       "    <tr>\n",
       "      <th>std</th>\n",
       "      <td>92435.932025</td>\n",
       "      <td>1.411189e+08</td>\n",
       "      <td>4.666912e+06</td>\n",
       "    </tr>\n",
       "    <tr>\n",
       "      <th>min</th>\n",
       "      <td>110152.000000</td>\n",
       "      <td>1.019042e+06</td>\n",
       "      <td>8.600000e-01</td>\n",
       "    </tr>\n",
       "    <tr>\n",
       "      <th>25%</th>\n",
       "      <td>116223.000000</td>\n",
       "      <td>1.019144e+06</td>\n",
       "      <td>2.987000e+03</td>\n",
       "    </tr>\n",
       "    <tr>\n",
       "      <th>50%</th>\n",
       "      <td>203013.000000</td>\n",
       "      <td>2.980000e+08</td>\n",
       "      <td>1.235584e+04</td>\n",
       "    </tr>\n",
       "    <tr>\n",
       "      <th>75%</th>\n",
       "      <td>311250.000000</td>\n",
       "      <td>3.000001e+08</td>\n",
       "      <td>1.130583e+05</td>\n",
       "    </tr>\n",
       "    <tr>\n",
       "      <th>max</th>\n",
       "      <td>370012.000000</td>\n",
       "      <td>6.040001e+08</td>\n",
       "      <td>1.267303e+08</td>\n",
       "    </tr>\n",
       "  </tbody>\n",
       "</table>\n",
       "</div>"
      ],
      "text/plain": [
       "             NUM BEN          # OP       IMPORTE\n",
       "count    1540.000000  1.540000e+03  1.540000e+03\n",
       "mean   203914.777273  1.920050e+08  6.263179e+05\n",
       "std     92435.932025  1.411189e+08  4.666912e+06\n",
       "min    110152.000000  1.019042e+06  8.600000e-01\n",
       "25%    116223.000000  1.019144e+06  2.987000e+03\n",
       "50%    203013.000000  2.980000e+08  1.235584e+04\n",
       "75%    311250.000000  3.000001e+08  1.130583e+05\n",
       "max    370012.000000  6.040001e+08  1.267303e+08"
      ]
     },
     "execution_count": 20,
     "metadata": {},
     "output_type": "execute_result"
    }
   ],
   "source": [
    "cdf.describe() # analisis de variables numericas"
   ]
  },
  {
   "cell_type": "code",
   "execution_count": 26,
   "id": "9d36ee59",
   "metadata": {},
   "outputs": [
    {
     "data": {
      "text/html": [
       "<div>\n",
       "<style scoped>\n",
       "    .dataframe tbody tr th:only-of-type {\n",
       "        vertical-align: middle;\n",
       "    }\n",
       "\n",
       "    .dataframe tbody tr th {\n",
       "        vertical-align: top;\n",
       "    }\n",
       "\n",
       "    .dataframe thead th {\n",
       "        text-align: right;\n",
       "    }\n",
       "</style>\n",
       "<table border=\"1\" class=\"dataframe\">\n",
       "  <thead>\n",
       "    <tr style=\"text-align: right;\">\n",
       "      <th></th>\n",
       "      <th>BENEFICIARIO</th>\n",
       "      <th>FACTURA</th>\n",
       "      <th>CONTRATO</th>\n",
       "      <th>CONCEPTO</th>\n",
       "      <th>TIPO</th>\n",
       "      <th># OP</th>\n",
       "      <th>FECHA</th>\n",
       "      <th>IMPORTE</th>\n",
       "      <th>SHEET</th>\n",
       "    </tr>\n",
       "  </thead>\n",
       "  <tbody>\n",
       "    <tr>\n",
       "      <th>0</th>\n",
       "      <td>LLANTAS Y SERVICIOS SERNA ANAHUAC,S.A. DE C.V.</td>\n",
       "      <td>LLS AF8458-158008-3972</td>\n",
       "      <td>OT. 20204373</td>\n",
       "      <td>REEMPLAZO E INSTALACION DE AMORTIGUADORES (DEL...</td>\n",
       "      <td>TR</td>\n",
       "      <td>1019110.0</td>\n",
       "      <td>2020-12-11</td>\n",
       "      <td>14911.8</td>\n",
       "      <td>GASTOS VARIOS</td>\n",
       "    </tr>\n",
       "    <tr>\n",
       "      <th>1</th>\n",
       "      <td>LLANTAS Y SERVICIOS SERNA ANAHUAC,S.A. DE C.V.</td>\n",
       "      <td>LLS PF6916-158008-4041</td>\n",
       "      <td>OT. 20204425</td>\n",
       "      <td>REEMPLAZO E INSTALACION DE OCHO BIRLOS Y NUEVE...</td>\n",
       "      <td>TR</td>\n",
       "      <td>1019110.0</td>\n",
       "      <td>2020-12-11</td>\n",
       "      <td>2528.8</td>\n",
       "      <td>GASTOS VARIOS</td>\n",
       "    </tr>\n",
       "  </tbody>\n",
       "</table>\n",
       "</div>"
      ],
      "text/plain": [
       "                                     BENEFICIARIO                 FACTURA  \\\n",
       "0  LLANTAS Y SERVICIOS SERNA ANAHUAC,S.A. DE C.V.  LLS AF8458-158008-3972   \n",
       "1  LLANTAS Y SERVICIOS SERNA ANAHUAC,S.A. DE C.V.  LLS PF6916-158008-4041   \n",
       "\n",
       "       CONTRATO                                           CONCEPTO TIPO  \\\n",
       "0  OT. 20204373  REEMPLAZO E INSTALACION DE AMORTIGUADORES (DEL...   TR   \n",
       "1  OT. 20204425  REEMPLAZO E INSTALACION DE OCHO BIRLOS Y NUEVE...   TR   \n",
       "\n",
       "        # OP       FECHA  IMPORTE          SHEET  \n",
       "0  1019110.0  2020-12-11  14911.8  GASTOS VARIOS  \n",
       "1  1019110.0  2020-12-11   2528.8  GASTOS VARIOS  "
      ]
     },
     "execution_count": 26,
     "metadata": {},
     "output_type": "execute_result"
    }
   ],
   "source": [
    "# seleccionamos solo variables a utilizar, eliminamos las demas\n",
    "cdf = cdf.drop(['NUM BEN', 'RFC'], axis=1)\n",
    "cdf.head(2)"
   ]
  },
  {
   "cell_type": "markdown",
   "id": "40b219f6",
   "metadata": {},
   "source": [
    "## 2.2 Análisis unidimensional de las variables"
   ]
  },
  {
   "cell_type": "code",
   "execution_count": 27,
   "id": "551aa74b",
   "metadata": {},
   "outputs": [
    {
     "data": {
      "text/plain": [
       "CONTRATISTAS Y FDO FED    724\n",
       "GASTOS VARIOS             690\n",
       "COMUNICACION               71\n",
       "SERV. PERS.                46\n",
       "SERV PPROF                  9\n",
       "Name: SHEET, dtype: int64"
      ]
     },
     "execution_count": 27,
     "metadata": {},
     "output_type": "execute_result"
    }
   ],
   "source": [
    "cdf['SHEET'].value_counts()"
   ]
  },
  {
   "cell_type": "code",
   "execution_count": 28,
   "id": "2c7d8232",
   "metadata": {},
   "outputs": [
    {
     "data": {
      "text/plain": [
       "1396"
      ]
     },
     "execution_count": 28,
     "metadata": {},
     "output_type": "execute_result"
    }
   ],
   "source": [
    "len(cdf['CONCEPTO'].unique())"
   ]
  },
  {
   "cell_type": "code",
   "execution_count": 29,
   "id": "daa928e6",
   "metadata": {},
   "outputs": [
    {
     "data": {
      "text/plain": [
       "CAMARA MEXICANA DE LA INDUSTRIA DE LA CONSTRUCCION    266\n",
       "AUTOKAM REGIOMONTANA,S.A.DE C.V.                      101\n",
       "CAR ONE MONTERREY, S.A. DE C.V.                        78\n",
       "PEREZ RIOS RAMIRO                                      58\n",
       "S.I.M.E.P.R.O.D.E.                                     50\n",
       "INTERASFALTOS, S.A. DE C.V.                            45\n",
       "GRUPO COYOTE MONTERREY, S.A. DE C.V.                   43\n",
       "SERVICIO TECNICO CHURUBUSCO, S.A. DE C.V.              30\n",
       "CFE SUMINISTRADOR DE SERVICIOS BASICOS                 29\n",
       "CORDERO MACIAS SILVESTRE GUADALUPE                     27\n",
       "Name: BENEFICIARIO, dtype: int64"
      ]
     },
     "execution_count": 29,
     "metadata": {},
     "output_type": "execute_result"
    }
   ],
   "source": [
    "cdf['BENEFICIARIO'].value_counts()[0:10]"
   ]
  },
  {
   "cell_type": "code",
   "execution_count": 39,
   "id": "860b5bec",
   "metadata": {},
   "outputs": [
    {
     "data": {
      "text/plain": [
       "<AxesSubplot:>"
      ]
     },
     "execution_count": 39,
     "metadata": {},
     "output_type": "execute_result"
    },
    {
     "data": {
      "image/png": "[encoded data removed]",
      "text/plain": [
       "<Figure size 432x288 with 1 Axes>"
      ]
     },
     "metadata": {
      "needs_background": "light"
     },
     "output_type": "display_data"
    }
   ],
   "source": [
    "#cdf['IMPORTE'].hist()\n",
    "# graficamos solo el 95% de los datos inferiores \n",
    "cdf[cdf['IMPORTE']< cdf['IMPORTE'].quantile(0.95)]['IMPORTE'].hist(bins=50) "
   ]
  },
  {
   "cell_type": "markdown",
   "id": "d75b7c47",
   "metadata": {},
   "source": [
    "## 2.3 Análisis multidimensional de las variables\n",
    "usaremos repetidamente la funcion de group by para generar relaciones entre variables. crearemos tablas dinamicas y apartir de ahi graficaremos.\n",
    "\n",
    "recuerda la logica de group by:\n",
    "\n",
    "df.groupby('columna agregadora').operacion_sobre_datos_agrupados()"
   ]
  },
  {
   "cell_type": "code",
   "execution_count": 41,
   "id": "6f7151f6",
   "metadata": {},
   "outputs": [],
   "source": [
    "# veremos cuanto se le pagen total a cada benificiario\n",
    "sum_importe_beneficiario = cdf.groupby('BENEFICIARIO').sum()['IMPORTE']"
   ]
  },
  {
   "cell_type": "code",
   "execution_count": 45,
   "id": "0984e143",
   "metadata": {},
   "outputs": [
    {
     "data": {
      "text/plain": [
       "<AxesSubplot:ylabel='BENEFICIARIO'>"
      ]
     },
     "execution_count": 45,
     "metadata": {},
     "output_type": "execute_result"
    },
    {
     "data": {
      "image/png": "[encoded data removed]",
      "text/plain": [
       "<Figure size 432x288 with 1 Axes>"
      ]
     },
     "metadata": {
      "needs_background": "light"
     },
     "output_type": "display_data"
    }
   ],
   "source": [
    "# creamos una grafica de los 10 empresas a las que mas dinero se les pago en total en el mes\n",
    "sum_importe_beneficiario.reset_index().sort_values(by='IMPORTE', ascending=False).iloc[0:10].plot(kind='barh', \n",
    "                                                                                                x='BENEFICIARIO', \n",
    "                                                                                                y='IMPORTE')"
   ]
  },
  {
   "cell_type": "markdown",
   "id": "e4fe5fcd",
   "metadata": {},
   "source": [
    "Dado que cada hoja de excel era un departamento donde se efectuaron pagos, podemos calcular la media de los pagos efectuado en cada departamento. y depues graficarlo "
   ]
  },
  {
   "cell_type": "code",
   "execution_count": 46,
   "id": "7773417d",
   "metadata": {},
   "outputs": [],
   "source": [
    "mean_importe_sheet = cdf.groupby('SHEET').mean()['IMPORTE']"
   ]
  },
  {
   "cell_type": "code",
   "execution_count": 48,
   "id": "87af174e",
   "metadata": {},
   "outputs": [
    {
     "data": {
      "text/plain": [
       "<AxesSubplot:ylabel='SHEET'>"
      ]
     },
     "execution_count": 48,
     "metadata": {},
     "output_type": "execute_result"
    },
    {
     "data": {
      "image/png": "[encoded data removed]",
      "text/plain": [
       "<Figure size 432x288 with 1 Axes>"
      ]
     },
     "metadata": {
      "needs_background": "light"
     },
     "output_type": "display_data"
    }
   ],
   "source": [
    "mean_importe_sheet.reset_index().sort_values(by='IMPORTE', ascending=True).iloc[0:10].plot(kind='barh', \n",
    "                                                                                            x='SHEET', \n",
    "                                                                                            y='IMPORTE')"
   ]
  },
  {
   "cell_type": "code",
   "execution_count": null,
   "id": "5e301f0a",
   "metadata": {},
   "outputs": [],
   "source": [
    "mean_importe_sheet.reset_index().sort_values(by='IMPORTE', ascending=False).iloc[0:10]"
   ]
  },
  {
   "cell_type": "code",
   "execution_count": 49,
   "id": "47ed7ee7",
   "metadata": {},
   "outputs": [],
   "source": [
    "# cuanto se gasto en cada dia \n",
    "sum_importe_fecha = cdf.groupby('FECHA').sum()[\"IMPORTE\"] "
   ]
  },
  {
   "cell_type": "code",
   "execution_count": 51,
   "id": "6c70bbdd",
   "metadata": {},
   "outputs": [
    {
     "data": {
      "text/plain": [
       "GASTOS VARIOS             11\n",
       "CONTRATISTAS Y FDO FED     5\n",
       "Name: SHEET, dtype: int64"
      ]
     },
     "execution_count": 51,
     "metadata": {},
     "output_type": "execute_result"
    }
   ],
   "source": [
    "cdf[cdf['BENEFICIARIO'] == \"MUNICIPIO DE LA CIUDAD DE MONTERREY\"]['SHEET'].value_counts()"
   ]
  },
  {
   "cell_type": "markdown",
   "id": "95ba8274",
   "metadata": {},
   "source": [
    "- stask(): convierte los indices internos de las columnas en indices internos de filas. \n",
    "- unstack(): convierte los indices internos de las filas  en indices internos de columnas. \n",
    "\n",
    "https://medium.com/swlh/reshaping-in-pandas-with-stack-and-unstack-functions-bb169f64467d\n",
    "\n",
    "en este caso nos ayudara a convertir "
   ]
  },
  {
   "cell_type": "code",
   "execution_count": 56,
   "id": "2aee9863",
   "metadata": {},
   "outputs": [
    {
     "data": {
      "text/html": [
       "<div>\n",
       "<style scoped>\n",
       "    .dataframe tbody tr th:only-of-type {\n",
       "        vertical-align: middle;\n",
       "    }\n",
       "\n",
       "    .dataframe tbody tr th {\n",
       "        vertical-align: top;\n",
       "    }\n",
       "\n",
       "    .dataframe thead th {\n",
       "        text-align: right;\n",
       "    }\n",
       "</style>\n",
       "<table border=\"1\" class=\"dataframe\">\n",
       "  <thead>\n",
       "    <tr style=\"text-align: right;\">\n",
       "      <th>SHEET</th>\n",
       "      <th>COMUNICACION</th>\n",
       "      <th>CONTRATISTAS Y FDO FED</th>\n",
       "      <th>GASTOS VARIOS</th>\n",
       "      <th>SERV PPROF</th>\n",
       "      <th>SERV. PERS.</th>\n",
       "    </tr>\n",
       "    <tr>\n",
       "      <th>BENEFICIARIO</th>\n",
       "      <th></th>\n",
       "      <th></th>\n",
       "      <th></th>\n",
       "      <th></th>\n",
       "      <th></th>\n",
       "    </tr>\n",
       "  </thead>\n",
       "  <tbody>\n",
       "    <tr>\n",
       "      <th>235 PROYECTOS, S.A. DE C.V.</th>\n",
       "      <td>NaN</td>\n",
       "      <td>NaN</td>\n",
       "      <td>1649292.36</td>\n",
       "      <td>NaN</td>\n",
       "      <td>NaN</td>\n",
       "    </tr>\n",
       "    <tr>\n",
       "      <th>ABC Y CONSTRUCCIONES, SA. DE CV.</th>\n",
       "      <td>NaN</td>\n",
       "      <td>1311087.9</td>\n",
       "      <td>NaN</td>\n",
       "      <td>NaN</td>\n",
       "      <td>NaN</td>\n",
       "    </tr>\n",
       "    <tr>\n",
       "      <th>ACEROS Y OVEROLLINGS DE MEXICO, SA. DE CV.</th>\n",
       "      <td>NaN</td>\n",
       "      <td>NaN</td>\n",
       "      <td>5914.30</td>\n",
       "      <td>NaN</td>\n",
       "      <td>NaN</td>\n",
       "    </tr>\n",
       "    <tr>\n",
       "      <th>ADQUISICIONES INTELIGENTES, S.A. DE C.V.</th>\n",
       "      <td>NaN</td>\n",
       "      <td>2132196.0</td>\n",
       "      <td>NaN</td>\n",
       "      <td>NaN</td>\n",
       "      <td>NaN</td>\n",
       "    </tr>\n",
       "    <tr>\n",
       "      <th>ALIANZA AUTOMOTRIZ RIVERO, SA. DE CV.</th>\n",
       "      <td>NaN</td>\n",
       "      <td>NaN</td>\n",
       "      <td>450859.52</td>\n",
       "      <td>NaN</td>\n",
       "      <td>NaN</td>\n",
       "    </tr>\n",
       "    <tr>\n",
       "      <th>...</th>\n",
       "      <td>...</td>\n",
       "      <td>...</td>\n",
       "      <td>...</td>\n",
       "      <td>...</td>\n",
       "      <td>...</td>\n",
       "    </tr>\n",
       "    <tr>\n",
       "      <th>VILLARREAL CARDENAS JUAN IGNACIO</th>\n",
       "      <td>NaN</td>\n",
       "      <td>NaN</td>\n",
       "      <td>NaN</td>\n",
       "      <td>NaN</td>\n",
       "      <td>3733.13</td>\n",
       "    </tr>\n",
       "    <tr>\n",
       "      <th>VILLARREAL CARDENAS NANCY ESTHER</th>\n",
       "      <td>NaN</td>\n",
       "      <td>NaN</td>\n",
       "      <td>NaN</td>\n",
       "      <td>NaN</td>\n",
       "      <td>81461.14</td>\n",
       "    </tr>\n",
       "    <tr>\n",
       "      <th>VILLARREAL DE LEON BERTHA</th>\n",
       "      <td>NaN</td>\n",
       "      <td>NaN</td>\n",
       "      <td>11004.05</td>\n",
       "      <td>NaN</td>\n",
       "      <td>NaN</td>\n",
       "    </tr>\n",
       "    <tr>\n",
       "      <th>VIVERO EL ESCORIAL, S.A. DE C.V.</th>\n",
       "      <td>NaN</td>\n",
       "      <td>NaN</td>\n",
       "      <td>2511255.46</td>\n",
       "      <td>NaN</td>\n",
       "      <td>NaN</td>\n",
       "    </tr>\n",
       "    <tr>\n",
       "      <th>ZAPATA CHAVIRA HOMERO ARTURO</th>\n",
       "      <td>NaN</td>\n",
       "      <td>NaN</td>\n",
       "      <td>NaN</td>\n",
       "      <td>28350.0</td>\n",
       "      <td>NaN</td>\n",
       "    </tr>\n",
       "  </tbody>\n",
       "</table>\n",
       "<p>301 rows × 5 columns</p>\n",
       "</div>"
      ],
      "text/plain": [
       "SHEET                                       COMUNICACION  \\\n",
       "BENEFICIARIO                                               \n",
       "235 PROYECTOS, S.A. DE C.V.                          NaN   \n",
       "ABC Y CONSTRUCCIONES, SA. DE CV.                     NaN   \n",
       "ACEROS Y OVEROLLINGS DE MEXICO, SA. DE CV.           NaN   \n",
       "ADQUISICIONES INTELIGENTES, S.A. DE C.V.             NaN   \n",
       "ALIANZA AUTOMOTRIZ RIVERO, SA. DE CV.                NaN   \n",
       "...                                                  ...   \n",
       "VILLARREAL CARDENAS JUAN IGNACIO                     NaN   \n",
       "VILLARREAL CARDENAS NANCY ESTHER                     NaN   \n",
       "VILLARREAL DE LEON BERTHA                            NaN   \n",
       "VIVERO EL ESCORIAL, S.A. DE C.V.                     NaN   \n",
       "ZAPATA CHAVIRA HOMERO ARTURO                         NaN   \n",
       "\n",
       "SHEET                                       CONTRATISTAS Y FDO FED  \\\n",
       "BENEFICIARIO                                                         \n",
       "235 PROYECTOS, S.A. DE C.V.                                    NaN   \n",
       "ABC Y CONSTRUCCIONES, SA. DE CV.                         1311087.9   \n",
       "ACEROS Y OVEROLLINGS DE MEXICO, SA. DE CV.                     NaN   \n",
       "ADQUISICIONES INTELIGENTES, S.A. DE C.V.                 2132196.0   \n",
       "ALIANZA AUTOMOTRIZ RIVERO, SA. DE CV.                          NaN   \n",
       "...                                                            ...   \n",
       "VILLARREAL CARDENAS JUAN IGNACIO                               NaN   \n",
       "VILLARREAL CARDENAS NANCY ESTHER                               NaN   \n",
       "VILLARREAL DE LEON BERTHA                                      NaN   \n",
       "VIVERO EL ESCORIAL, S.A. DE C.V.                               NaN   \n",
       "ZAPATA CHAVIRA HOMERO ARTURO                                   NaN   \n",
       "\n",
       "SHEET                                       GASTOS VARIOS  SERV PPROF  \\\n",
       "BENEFICIARIO                                                            \n",
       "235 PROYECTOS, S.A. DE C.V.                    1649292.36         NaN   \n",
       "ABC Y CONSTRUCCIONES, SA. DE CV.                      NaN         NaN   \n",
       "ACEROS Y OVEROLLINGS DE MEXICO, SA. DE CV.        5914.30         NaN   \n",
       "ADQUISICIONES INTELIGENTES, S.A. DE C.V.              NaN         NaN   \n",
       "ALIANZA AUTOMOTRIZ RIVERO, SA. DE CV.           450859.52         NaN   \n",
       "...                                                   ...         ...   \n",
       "VILLARREAL CARDENAS JUAN IGNACIO                      NaN         NaN   \n",
       "VILLARREAL CARDENAS NANCY ESTHER                      NaN         NaN   \n",
       "VILLARREAL DE LEON BERTHA                        11004.05         NaN   \n",
       "VIVERO EL ESCORIAL, S.A. DE C.V.               2511255.46         NaN   \n",
       "ZAPATA CHAVIRA HOMERO ARTURO                          NaN     28350.0   \n",
       "\n",
       "SHEET                                       SERV. PERS.  \n",
       "BENEFICIARIO                                             \n",
       "235 PROYECTOS, S.A. DE C.V.                         NaN  \n",
       "ABC Y CONSTRUCCIONES, SA. DE CV.                    NaN  \n",
       "ACEROS Y OVEROLLINGS DE MEXICO, SA. DE CV.          NaN  \n",
       "ADQUISICIONES INTELIGENTES, S.A. DE C.V.            NaN  \n",
       "ALIANZA AUTOMOTRIZ RIVERO, SA. DE CV.               NaN  \n",
       "...                                                 ...  \n",
       "VILLARREAL CARDENAS JUAN IGNACIO                3733.13  \n",
       "VILLARREAL CARDENAS NANCY ESTHER               81461.14  \n",
       "VILLARREAL DE LEON BERTHA                           NaN  \n",
       "VIVERO EL ESCORIAL, S.A. DE C.V.                    NaN  \n",
       "ZAPATA CHAVIRA HOMERO ARTURO                        NaN  \n",
       "\n",
       "[301 rows x 5 columns]"
      ]
     },
     "execution_count": 56,
     "metadata": {},
     "output_type": "execute_result"
    }
   ],
   "source": [
    "compras_sheet_beneficiario = cdf.groupby(['BENEFICIARIO', 'SHEET']).sum()['IMPORTE'].sort_values().unstack('SHEET')\n",
    "compras_sheet_beneficiario.head(3)"
   ]
  },
  {
   "cell_type": "code",
   "execution_count": 57,
   "id": "4918d567",
   "metadata": {},
   "outputs": [
    {
     "data": {
      "text/plain": [
       "Index(['MUNICIPIO DE LA CIUDAD DE MONTERREY',\n",
       "       'INTEGRACION DE SISTEMAS DE AVANZADA TECNOLOGIA, S.A. DE C.V.',\n",
       "       'VALUE ARRENDADORA,S.A.DE C.V. SOFOM ER VALUE GPO.FIN.',\n",
       "       'CAR ONE MONTERREY, S.A. DE C.V.',\n",
       "       'BANCO BANCREA,S.A. ,FIDEICOMISO NUMERO BP417',\n",
       "       'SI VALE MEXICO, S.A. DE C.V.', 'INTERASFALTOS, S.A. DE C.V.',\n",
       "       'RED RECOLECTOR, S.A. DE C.V.', 'SERVICIOS BROXEL, S.A.P.I. DE C.V.',\n",
       "       'PROYECTOS Y DESARROLLOS SALVE, SA. DE CV.'],\n",
       "      dtype='object', name='BENEFICIARIO')"
      ]
     },
     "execution_count": 57,
     "metadata": {},
     "output_type": "execute_result"
    }
   ],
   "source": [
    "top_beneficiarios = cdf.groupby('BENEFICIARIO')['IMPORTE'].sum().sort_values(ascending=False).index[0:10]\n",
    "top_beneficiarios"
   ]
  },
  {
   "cell_type": "code",
   "execution_count": 59,
   "id": "3f6acff8",
   "metadata": {},
   "outputs": [
    {
     "data": {
      "text/plain": [
       "<AxesSubplot:ylabel='BENEFICIARIO'>"
      ]
     },
     "execution_count": 59,
     "metadata": {},
     "output_type": "execute_result"
    },
    {
     "data": {
      "image/png": "[encoded data removed]",
      "text/plain": [
       "<Figure size 432x288 with 1 Axes>"
      ]
     },
     "metadata": {
      "needs_background": "light"
     },
     "output_type": "display_data"
    }
   ],
   "source": [
    "compras_sheet_beneficiario.loc[top_beneficiarios].plot.barh(stacked=True)"
   ]
  },
  {
   "cell_type": "markdown",
   "id": "55c37b9c",
   "metadata": {},
   "source": [
    "## 2.4 Análisis de texto\n",
    "analizaremos las palabras usadas en contexto. grearemos una cloudword  sobre las palabaras mas usadas en concepto. se realizara en 3 pasos: \n",
    "1. guardamos todos los conceptos en forma de parrafo grande\n",
    "2. creamos un diccionario de palabras a ignorar en el analisis con NLTK\n",
    "3. "
   ]
  },
  {
   "cell_type": "code",
   "execution_count": 70,
   "id": "77e07796",
   "metadata": {},
   "outputs": [
    {
     "name": "stdout",
     "output_type": "stream",
     "text": [
      "['de', 'la', 'que', 'el', 'en', 'y', 'a', 'los', 'del', 'se']\n"
     ]
    }
   ],
   "source": [
    "import nltk\n",
    "from nltk.corpus import stopwords\n",
    "print(stopwords.words('spanish')[:10])"
   ]
  },
  {
   "cell_type": "code",
   "execution_count": 71,
   "id": "a30c5f85",
   "metadata": {},
   "outputs": [],
   "source": [
    "# guardamos todos los conceptos en un parrafo \n",
    "textos_compras = ''\n",
    "for row in cdf['CONCEPTO']: \n",
    "    textos_compras = textos_compras + ' ' + row"
   ]
  },
  {
   "cell_type": "code",
   "execution_count": 72,
   "id": "9fce2b51",
   "metadata": {},
   "outputs": [],
   "source": [
    "# definimos diccionario de palabras no deseadas \n",
    "stopwords_list = stopwords.words('spanish') + ['monterrey', 'municipio', '2020', 'cont', 'millar', 'dpp', 'est', 'op', 'ret', 'mty', 'icom']"
   ]
  },
  {
   "cell_type": "code",
   "execution_count": 73,
   "id": "b27aa99a",
   "metadata": {},
   "outputs": [],
   "source": [
    "# limpiamos stopwords\n",
    "# strip quita los espacio de mas, lower convierte todo en minusculas\n",
    "textos_compras = ' '.join([x for x in textos_compras.strip().lower().split(' ') if x not in stopwords_list and len(x)>4])"
   ]
  },
  {
   "cell_type": "code",
   "execution_count": 85,
   "id": "da119939",
   "metadata": {},
   "outputs": [
    {
     "ename": "ModuleNotFoundError",
     "evalue": "No module named 'wordcloud'",
     "output_type": "error",
     "traceback": [
      "\u001b[1;31m---------------------------------------------------------------------------\u001b[0m",
      "\u001b[1;31mModuleNotFoundError\u001b[0m                       Traceback (most recent call last)",
      "\u001b[1;32mc:\\Users\\Panda\\Desktop\\platzi_code\\31_crea_tus _propios_proyectos_de_DS\\1_limpieza_y_carga.ipynb Celda 37\u001b[0m in \u001b[0;36m<cell line: 1>\u001b[1;34m()\u001b[0m\n\u001b[1;32m----> <a href='vscode-notebook-cell:/c%3A/Users/Panda/Desktop/platzi_code/31_crea_tus%20_propios_proyectos_de_DS/1_limpieza_y_carga.ipynb#Y110sZmlsZQ%3D%3D?line=0'>1</a>\u001b[0m \u001b[39mfrom\u001b[39;00m \u001b[39mwordcloud\u001b[39;00m \u001b[39mimport\u001b[39;00m WordCloud\n\u001b[0;32m      <a href='vscode-notebook-cell:/c%3A/Users/Panda/Desktop/platzi_code/31_crea_tus%20_propios_proyectos_de_DS/1_limpieza_y_carga.ipynb#Y110sZmlsZQ%3D%3D?line=1'>2</a>\u001b[0m \u001b[39mimport\u001b[39;00m \u001b[39mmatplotlib\u001b[39;00m\u001b[39m.\u001b[39;00m\u001b[39mpyplot\u001b[39;00m \u001b[39mas\u001b[39;00m \u001b[39mplt\u001b[39;00m\n",
      "\u001b[1;31mModuleNotFoundError\u001b[0m: No module named 'wordcloud'"
     ]
    }
   ],
   "source": [
    "from wordcloud import WordCloud\n",
    "import matplotlib.pyplot as plt"
   ]
  },
  {
   "cell_type": "code",
   "execution_count": null,
   "id": "c3eb4719",
   "metadata": {},
   "outputs": [],
   "source": [
    "# genermoas la imagen de nube de palabras \n",
    "wc = WordCloud(background_color= 'white')\n",
    "wc.generate(textos_compras)\n",
    "\n",
    "plt.axis(\"off\")\n",
    "plt.imshow(wc, interpolation='bilinear')\n",
    "plt.show()"
   ]
  }
 ],
 "metadata": {
  "kernelspec": {
   "display_name": "Python 3.9.12 ('base')",
   "language": "python",
   "name": "python3"
  },
  "language_info": {
   "codemirror_mode": {
    "name": "ipython",
    "version": 3
   },
   "file_extension": ".py",
   "mimetype": "text/x-python",
   "name": "python",
   "nbconvert_exporter": "python",
   "pygments_lexer": "ipython3",
   "version": "3.9.12"
  },
  "vscode": {
   "interpreter": {
    "hash": "89700b826ea957244dd80a5eea6853c4d4fde16e09f6b962977bd16c6aae5fc9"
   }
  }
 },
 "nbformat": 4,
 "nbformat_minor": 5
}
