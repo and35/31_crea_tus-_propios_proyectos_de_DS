{
 "cells": [
  {
   "cell_type": "code",
   "execution_count": 1,
   "id": "57170954",
   "metadata": {},
   "outputs": [],
   "source": [
    "%matplotlib inline\n",
    "import pandas as pd"
   ]
  },
  {
   "cell_type": "code",
   "execution_count": 5,
   "id": "6d0b5e0e",
   "metadata": {},
   "outputs": [],
   "source": [
    "df = pd.read_csv('data/clean_compras.csv')"
   ]
  },
  {
   "cell_type": "code",
   "execution_count": 6,
   "id": "f3c03c33",
   "metadata": {},
   "outputs": [
    {
     "data": {
      "text/plain": [
       "NUM BEN           int64\n",
       "BENEFICIARIO     object\n",
       "RFC              object\n",
       "FACTURA          object\n",
       "CONTRATO         object\n",
       "CONCEPTO         object\n",
       "TIPO             object\n",
       "# OP            float64\n",
       "FECHA            object\n",
       "IMPORTE         float64\n",
       "SHEET            object\n",
       "dtype: object"
      ]
     },
     "execution_count": 6,
     "metadata": {},
     "output_type": "execute_result"
    }
   ],
   "source": [
    "df.dtypes"
   ]
  },
  {
   "cell_type": "markdown",
   "id": "64b22fb8",
   "metadata": {},
   "source": [
    "## Empezamos con una expansion de datos que tenemos, fecha por ejemplo"
   ]
  },
  {
   "cell_type": "markdown",
   "id": "282b61ca",
   "metadata": {},
   "source": [
    "requerimos convertir a formato de tiempo la columna par despues poder manipular este tipo de objeto datetime"
   ]
  },
  {
   "cell_type": "code",
   "execution_count": 7,
   "id": "53ae446e",
   "metadata": {},
   "outputs": [],
   "source": [
    "# convertimos la col fecha a formato de datetime\n",
    "df['FECHA'] = pd.to_datetime(df['FECHA'])"
   ]
  },
  {
   "cell_type": "code",
   "execution_count": 10,
   "id": "e3795b33",
   "metadata": {},
   "outputs": [
    {
     "data": {
      "text/html": [
       "<div>\n",
       "<style scoped>\n",
       "    .dataframe tbody tr th:only-of-type {\n",
       "        vertical-align: middle;\n",
       "    }\n",
       "\n",
       "    .dataframe tbody tr th {\n",
       "        vertical-align: top;\n",
       "    }\n",
       "\n",
       "    .dataframe thead th {\n",
       "        text-align: right;\n",
       "    }\n",
       "</style>\n",
       "<table border=\"1\" class=\"dataframe\">\n",
       "  <thead>\n",
       "    <tr style=\"text-align: right;\">\n",
       "      <th></th>\n",
       "      <th>NUM BEN</th>\n",
       "      <th>BENEFICIARIO</th>\n",
       "      <th>RFC</th>\n",
       "      <th>FACTURA</th>\n",
       "      <th>CONTRATO</th>\n",
       "      <th>CONCEPTO</th>\n",
       "      <th>TIPO</th>\n",
       "      <th># OP</th>\n",
       "      <th>FECHA</th>\n",
       "      <th>IMPORTE</th>\n",
       "      <th>SHEET</th>\n",
       "      <th>DIA</th>\n",
       "      <th>MES</th>\n",
       "      <th>YEAR</th>\n",
       "    </tr>\n",
       "  </thead>\n",
       "  <tbody>\n",
       "    <tr>\n",
       "      <th>0</th>\n",
       "      <td>110152</td>\n",
       "      <td>LLANTAS Y SERVICIOS SERNA ANAHUAC,S.A. DE C.V.</td>\n",
       "      <td>LSS841015DV3</td>\n",
       "      <td>LLS AF8458-158008-3972</td>\n",
       "      <td>OT. 20204373</td>\n",
       "      <td>REEMPLAZO E INSTALACION DE AMORTIGUADORES (DEL...</td>\n",
       "      <td>TR</td>\n",
       "      <td>1019110.0</td>\n",
       "      <td>2020-12-11</td>\n",
       "      <td>14911.8</td>\n",
       "      <td>GASTOS VARIOS</td>\n",
       "      <td>11</td>\n",
       "      <td>12</td>\n",
       "      <td>2020</td>\n",
       "    </tr>\n",
       "  </tbody>\n",
       "</table>\n",
       "</div>"
      ],
      "text/plain": [
       "   NUM BEN                                    BENEFICIARIO           RFC  \\\n",
       "0   110152  LLANTAS Y SERVICIOS SERNA ANAHUAC,S.A. DE C.V.  LSS841015DV3   \n",
       "\n",
       "                  FACTURA      CONTRATO  \\\n",
       "0  LLS AF8458-158008-3972  OT. 20204373   \n",
       "\n",
       "                                            CONCEPTO TIPO       # OP  \\\n",
       "0  REEMPLAZO E INSTALACION DE AMORTIGUADORES (DEL...   TR  1019110.0   \n",
       "\n",
       "       FECHA  IMPORTE          SHEET  DIA  MES  YEAR  \n",
       "0 2020-12-11  14911.8  GASTOS VARIOS   11   12  2020  "
      ]
     },
     "execution_count": 10,
     "metadata": {},
     "output_type": "execute_result"
    }
   ],
   "source": [
    "#df['DIA'] = df['FECHA'].apply(lambda x: x.day) # forma larga usando func lambda a cada registro \n",
    "df['DIA'] = df['FECHA'].dt.day # forma reducida usando el metodo dt\n",
    "df['MES'] = df['FECHA'].dt.month\n",
    "df['YEAR'] = df['FECHA'].dt.year\n",
    "df.head(1)"
   ]
  },
  {
   "cell_type": "markdown",
   "id": "49d0bd68",
   "metadata": {},
   "source": [
    "## Proyectemos unas variables contra otras\n",
    "Prácticamente es guardar el valor de un groupby u otra función de agregación en una nueva columna "
   ]
  },
  {
   "cell_type": "code",
   "execution_count": 30,
   "id": "df66fb7e",
   "metadata": {},
   "outputs": [
    {
     "data": {
      "text/plain": [
       "[('LLANTAS Y SERVICIOS SERNA ANAHUAC,S.A. DE C.V.', 13),\n",
       " ('MILENIO DIARIO, S.A. DE C.V.', 12)]"
      ]
     },
     "execution_count": 30,
     "metadata": {},
     "output_type": "execute_result"
    }
   ],
   "source": [
    "beneficiario_sales = df['BENEFICIARIO'].value_counts().to_dict()\n",
    "list(beneficiario_sales.items())[20:22]"
   ]
  },
  {
   "cell_type": "markdown",
   "id": "d20b6c0f",
   "metadata": {},
   "source": [
    "### usar diccionario para asignar valores en lmbda\n",
    "podemos usar una funcion lambda dentro de una columna un numero corresponiete a la llave de un diccionario. \n",
    "dicho de otra forma cada vez que x sea == dict.key x se le asignara el dict value correspondiente. "
   ]
  },
  {
   "cell_type": "code",
   "execution_count": 33,
   "id": "7c6ef6db",
   "metadata": {},
   "outputs": [
    {
     "data": {
      "text/html": [
       "<div>\n",
       "<style scoped>\n",
       "    .dataframe tbody tr th:only-of-type {\n",
       "        vertical-align: middle;\n",
       "    }\n",
       "\n",
       "    .dataframe tbody tr th {\n",
       "        vertical-align: top;\n",
       "    }\n",
       "\n",
       "    .dataframe thead th {\n",
       "        text-align: right;\n",
       "    }\n",
       "</style>\n",
       "<table border=\"1\" class=\"dataframe\">\n",
       "  <thead>\n",
       "    <tr style=\"text-align: right;\">\n",
       "      <th></th>\n",
       "      <th>BENEFICIARIO</th>\n",
       "      <th>BENEFICIARIO_SALES</th>\n",
       "    </tr>\n",
       "  </thead>\n",
       "  <tbody>\n",
       "    <tr>\n",
       "      <th>0</th>\n",
       "      <td>LLANTAS Y SERVICIOS SERNA ANAHUAC,S.A. DE C.V.</td>\n",
       "      <td>13</td>\n",
       "    </tr>\n",
       "    <tr>\n",
       "      <th>1</th>\n",
       "      <td>LLANTAS Y SERVICIOS SERNA ANAHUAC,S.A. DE C.V.</td>\n",
       "      <td>13</td>\n",
       "    </tr>\n",
       "    <tr>\n",
       "      <th>2</th>\n",
       "      <td>LLANTAS Y SERVICIOS SERNA ANAHUAC,S.A. DE C.V.</td>\n",
       "      <td>13</td>\n",
       "    </tr>\n",
       "  </tbody>\n",
       "</table>\n",
       "</div>"
      ],
      "text/plain": [
       "                                     BENEFICIARIO  BENEFICIARIO_SALES\n",
       "0  LLANTAS Y SERVICIOS SERNA ANAHUAC,S.A. DE C.V.                  13\n",
       "1  LLANTAS Y SERVICIOS SERNA ANAHUAC,S.A. DE C.V.                  13\n",
       "2  LLANTAS Y SERVICIOS SERNA ANAHUAC,S.A. DE C.V.                  13"
      ]
     },
     "execution_count": 33,
     "metadata": {},
     "output_type": "execute_result"
    }
   ],
   "source": [
    "df['BENEFICIARIO_SALES'] = df['BENEFICIARIO'].apply(lambda x: beneficiario_sales[x])\n",
    "df.head(3)[[\"BENEFICIARIO\", \"BENEFICIARIO_SALES\"]] # podemos ver como la nueva columna asigno el valor del dict de arriba"
   ]
  },
  {
   "cell_type": "code",
   "execution_count": 36,
   "id": "bd5cfe7b",
   "metadata": {},
   "outputs": [
    {
     "data": {
      "text/plain": [
       "[('COMUNICACION', 109705.34366197183),\n",
       " ('CONTRATISTAS Y FDO FED', 474566.76578729285)]"
      ]
     },
     "execution_count": 36,
     "metadata": {},
     "output_type": "execute_result"
    }
   ],
   "source": [
    "# hacemos lo mismo de atras pero ahora con los valores de group by\n",
    "sheet_mean_compras = df.groupby('SHEET')['IMPORTE'].mean().to_dict()\n",
    "list(sheet_mean_compras.items())[:2]"
   ]
  },
  {
   "cell_type": "code",
   "execution_count": 37,
   "id": "11d6386c",
   "metadata": {},
   "outputs": [
    {
     "data": {
      "text/html": [
       "<div>\n",
       "<style scoped>\n",
       "    .dataframe tbody tr th:only-of-type {\n",
       "        vertical-align: middle;\n",
       "    }\n",
       "\n",
       "    .dataframe tbody tr th {\n",
       "        vertical-align: top;\n",
       "    }\n",
       "\n",
       "    .dataframe thead th {\n",
       "        text-align: right;\n",
       "    }\n",
       "</style>\n",
       "<table border=\"1\" class=\"dataframe\">\n",
       "  <thead>\n",
       "    <tr style=\"text-align: right;\">\n",
       "      <th></th>\n",
       "      <th>BENEFICIARIO</th>\n",
       "      <th>SHEET</th>\n",
       "      <th>IMPORTE_GASTO_PROMEDIO</th>\n",
       "    </tr>\n",
       "  </thead>\n",
       "  <tbody>\n",
       "    <tr>\n",
       "      <th>0</th>\n",
       "      <td>LLANTAS Y SERVICIOS SERNA ANAHUAC,S.A. DE C.V.</td>\n",
       "      <td>GASTOS VARIOS</td>\n",
       "      <td>881659.731797</td>\n",
       "    </tr>\n",
       "    <tr>\n",
       "      <th>1</th>\n",
       "      <td>LLANTAS Y SERVICIOS SERNA ANAHUAC,S.A. DE C.V.</td>\n",
       "      <td>GASTOS VARIOS</td>\n",
       "      <td>881659.731797</td>\n",
       "    </tr>\n",
       "    <tr>\n",
       "      <th>2</th>\n",
       "      <td>LLANTAS Y SERVICIOS SERNA ANAHUAC,S.A. DE C.V.</td>\n",
       "      <td>GASTOS VARIOS</td>\n",
       "      <td>881659.731797</td>\n",
       "    </tr>\n",
       "  </tbody>\n",
       "</table>\n",
       "</div>"
      ],
      "text/plain": [
       "                                     BENEFICIARIO          SHEET  \\\n",
       "0  LLANTAS Y SERVICIOS SERNA ANAHUAC,S.A. DE C.V.  GASTOS VARIOS   \n",
       "1  LLANTAS Y SERVICIOS SERNA ANAHUAC,S.A. DE C.V.  GASTOS VARIOS   \n",
       "2  LLANTAS Y SERVICIOS SERNA ANAHUAC,S.A. DE C.V.  GASTOS VARIOS   \n",
       "\n",
       "   IMPORTE_GASTO_PROMEDIO  \n",
       "0           881659.731797  \n",
       "1           881659.731797  \n",
       "2           881659.731797  "
      ]
     },
     "execution_count": 37,
     "metadata": {},
     "output_type": "execute_result"
    }
   ],
   "source": [
    "df['IMPORTE_GASTO_PROMEDIO'] = df['SHEET'].apply(lambda x: sheet_mean_compras[x]) \n",
    "df.head(3)[[\"BENEFICIARIO\",\"SHEET\", \"IMPORTE_GASTO_PROMEDIO\"]]"
   ]
  },
  {
   "cell_type": "markdown",
   "id": "9d22918a",
   "metadata": {},
   "source": [
    "## Traernos informacion externa, enriquecer los datos usando una tool de paginas de linkedin"
   ]
  },
  {
   "cell_type": "markdown",
   "id": "431277a6",
   "metadata": {},
   "source": [
    "# phantom buster\n",
    "en este caso se uso phantom buster para hacer scraping en linkedin. practicamente lo que hace es usar una lista de nombres para hacer scraping en linkedin. en este caso solo queremos confirmar si losbeneficiarios tienen  linkedin.   \n",
    "para efectos de esta clase ya tendremos el dataset que tenga la informacion que requerimos, ya que el scraping sale del alcance del curso. \n",
    "\n",
    "https://phantombuster.com/phantombuster?category=linkedin\n"
   ]
  },
  {
   "cell_type": "code",
   "execution_count": 38,
   "id": "b39ff930",
   "metadata": {},
   "outputs": [],
   "source": [
    "# creamos un CSV que contiene los nombres unicos de beneficiarios \n",
    "pd.DataFrame(df['BENEFICIARIO'].unique()).to_csv('data/unique_beneficiarios.csv', index=None)"
   ]
  },
  {
   "cell_type": "code",
   "execution_count": 39,
   "id": "1be222e5",
   "metadata": {},
   "outputs": [
    {
     "data": {
      "text/html": [
       "<div>\n",
       "<style scoped>\n",
       "    .dataframe tbody tr th:only-of-type {\n",
       "        vertical-align: middle;\n",
       "    }\n",
       "\n",
       "    .dataframe tbody tr th {\n",
       "        vertical-align: top;\n",
       "    }\n",
       "\n",
       "    .dataframe thead th {\n",
       "        text-align: right;\n",
       "    }\n",
       "</style>\n",
       "<table border=\"1\" class=\"dataframe\">\n",
       "  <thead>\n",
       "    <tr style=\"text-align: right;\">\n",
       "      <th></th>\n",
       "      <th>url</th>\n",
       "      <th>description</th>\n",
       "      <th>title</th>\n",
       "      <th>query</th>\n",
       "      <th>timestamp</th>\n",
       "      <th>error</th>\n",
       "    </tr>\n",
       "  </thead>\n",
       "  <tbody>\n",
       "    <tr>\n",
       "      <th>0</th>\n",
       "      <td>https://www.linkedin.com/in/rosa-lorena-valdez...</td>\n",
       "      <td>Ve el perfil de Rosa Lorena Valdez Miranda en ...</td>\n",
       "      <td>Rosa Lorena Valdez Miranda - Analista de Deuda...</td>\n",
       "      <td>Rosa Lorena Valdez Miranda</td>\n",
       "      <td>2021-03-08T13:06:25.587Z</td>\n",
       "      <td>NaN</td>\n",
       "    </tr>\n",
       "    <tr>\n",
       "      <th>1</th>\n",
       "      <td>https://www.linkedin.com/in/roque-ya%C3%B1ez-r...</td>\n",
       "      <td>Ve el perfil de Roque Yañez Ramos en LinkedIn,...</td>\n",
       "      <td>Roque Yañez Ramos - Síndico Primero - Gobierno...</td>\n",
       "      <td>Roque Yañez Ramos</td>\n",
       "      <td>2021-03-08T13:06:52.599Z</td>\n",
       "      <td>NaN</td>\n",
       "    </tr>\n",
       "  </tbody>\n",
       "</table>\n",
       "</div>"
      ],
      "text/plain": [
       "                                                 url  \\\n",
       "0  https://www.linkedin.com/in/rosa-lorena-valdez...   \n",
       "1  https://www.linkedin.com/in/roque-ya%C3%B1ez-r...   \n",
       "\n",
       "                                         description  \\\n",
       "0  Ve el perfil de Rosa Lorena Valdez Miranda en ...   \n",
       "1  Ve el perfil de Roque Yañez Ramos en LinkedIn,...   \n",
       "\n",
       "                                               title  \\\n",
       "0  Rosa Lorena Valdez Miranda - Analista de Deuda...   \n",
       "1  Roque Yañez Ramos - Síndico Primero - Gobierno...   \n",
       "\n",
       "                        query                 timestamp error  \n",
       "0  Rosa Lorena Valdez Miranda  2021-03-08T13:06:25.587Z   NaN  \n",
       "1           Roque Yañez Ramos  2021-03-08T13:06:52.599Z   NaN  "
      ]
     },
     "execution_count": 39,
     "metadata": {},
     "output_type": "execute_result"
    }
   ],
   "source": [
    "#Cargar la data del scraping\n",
    "linkedin_mty = pd.read_csv('data/linkedin_mty.csv')\n",
    "linkedin_mty.head(2)"
   ]
  },
  {
   "cell_type": "code",
   "execution_count": 45,
   "id": "16b03f36",
   "metadata": {},
   "outputs": [
    {
     "data": {
      "text/plain": [
       "[('DISTRIBUIDORA DE FRUTAS Y LEGUMBRES LA HORTALIZA,S.A.DE C.V.', False),\n",
       " ('NUÑEZ LOPEZ VIRGINIA', True),\n",
       " ('S.I.M.E.P.R.O.D.E.', False),\n",
       " ('TRACTORES Y MAQUINARIA REAL, S.A. DE C.V.', True),\n",
       " ('TELEFONOS DE MEXICO,S.A.B DE C.V.', True)]"
      ]
     },
     "execution_count": 45,
     "metadata": {},
     "output_type": "execute_result"
    }
   ],
   "source": [
    "has_site = {}\n",
    "# fillna: llena los null con True. # iterrrow: saca cada fila como un dataframe con un solo registro\n",
    "for i, ele in linkedin_mty.fillna(True).iterrows(): \n",
    "    has_site[ele['query']] = True if ele['error'] == True else False\n",
    "\n",
    "list(has_site.items())[25:30]"
   ]
  },
  {
   "cell_type": "code",
   "execution_count": 46,
   "id": "722217e6",
   "metadata": {},
   "outputs": [],
   "source": [
    "# creamos la nueva columna, usando el diccionario rellenamos. \n",
    "#  cada registro de BENEFICIARIO igualamos la limpieza cambiando dobles espacios por 1\n",
    "df['HAS_LINKEDIN_SITE'] = df['BENEFICIARIO'].apply(lambda x: has_site[x.replace('  ', ' ')])"
   ]
  },
  {
   "cell_type": "code",
   "execution_count": 47,
   "id": "87a3b4d9",
   "metadata": {},
   "outputs": [
    {
     "data": {
      "text/plain": [
       "True     1392\n",
       "False     148\n",
       "Name: HAS_LINKEDIN_SITE, dtype: int64"
      ]
     },
     "execution_count": 47,
     "metadata": {},
     "output_type": "execute_result"
    }
   ],
   "source": [
    "df['HAS_LINKEDIN_SITE'].value_counts()"
   ]
  },
  {
   "cell_type": "code",
   "execution_count": 49,
   "id": "20e7e2e1",
   "metadata": {},
   "outputs": [],
   "source": [
    "# guardamos el DS enriquecido\n",
    "df.to_csv('data/compras_df_enriched.csv', index=None)"
   ]
  }
 ],
 "metadata": {
  "kernelspec": {
   "display_name": "Python 3.9.12 ('base')",
   "language": "python",
   "name": "python3"
  },
  "language_info": {
   "codemirror_mode": {
    "name": "ipython",
    "version": 3
   },
   "file_extension": ".py",
   "mimetype": "text/x-python",
   "name": "python",
   "nbconvert_exporter": "python",
   "pygments_lexer": "ipython3",
   "version": "3.9.12"
  },
  "vscode": {
   "interpreter": {
    "hash": "89700b826ea957244dd80a5eea6853c4d4fde16e09f6b962977bd16c6aae5fc9"
   }
  }
 },
 "nbformat": 4,
 "nbformat_minor": 5
}
