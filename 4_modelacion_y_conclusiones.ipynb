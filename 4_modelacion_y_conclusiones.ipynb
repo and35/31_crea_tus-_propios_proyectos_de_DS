{
 "cells": [
  {
   "cell_type": "code",
   "execution_count": 2,
   "id": "c6eb1f5f",
   "metadata": {},
   "outputs": [],
   "source": [
    "%matplotlib inline\n",
    "import pandas as pd"
   ]
  },
  {
   "cell_type": "code",
   "execution_count": 3,
   "id": "2cf613f7",
   "metadata": {},
   "outputs": [],
   "source": [
    "df = pd.read_csv('data/compras_df_enriched.csv')"
   ]
  },
  {
   "cell_type": "markdown",
   "id": "8b46e509",
   "metadata": {},
   "source": [
    "# 1 modelo supervisado"
   ]
  },
  {
   "cell_type": "markdown",
   "id": "c57c746a",
   "metadata": {},
   "source": [
    "# arreglando nulls\n",
    "lo haremos en 3 pasos:\n",
    "- usamos una lista que contiene el tipo de datos de cada columna \n",
    "- si el typo es \"object\" la columna es categorica entonces: \n",
    "    * llenamos nulos con la moda \n",
    "    * hacemos encoding de variables categoricas osea convertimos variables categoricas a numeros. \n",
    "- si no es typo \"object\" la columna es numerica entonces:\n",
    "    * llenamos nulos con la mediana \n",
    "ahora tenemos un dataset con puras variables numericas y sin datos nulos, listos para usarse en un modelo de ML.\n",
    "\n",
    "si quieres como saber las etiqeutas dfe encoding: \n",
    "https://stackoverflow.com/questions/51102205/how-to-know-the-labels-assigned-by-astypecategory-cat-codes\n",
    "\n",
    "    "
   ]
  },
  {
   "cell_type": "code",
   "execution_count": 4,
   "id": "2c9751a8",
   "metadata": {},
   "outputs": [],
   "source": [
    "data = df.copy()\n",
    "for i, column in enumerate(list([str(d) for d in data.dtypes])):\n",
    "    if column == \"object\":\n",
    "        # llenamos null categoricos con la moda \n",
    "        data[data.columns[i]] = data[data.columns[i]].fillna(data[data.columns[i]].mode()) \n",
    "        # asignamos typo \"catecory\" | .cat.code hace encodign de variables categoricas\n",
    "        data[data.columns[i]] = data[data.columns[i]].astype(\"category\").cat.codes \n",
    "    else:\n",
    "        #llenamos null numericos con la mediana \n",
    "        data[data.columns[i]] = data[data.columns[i]].fillna(data[data.columns[i]].median())"
   ]
  },
  {
   "cell_type": "code",
   "execution_count": 5,
   "id": "deb19529",
   "metadata": {},
   "outputs": [
    {
     "data": {
      "text/html": [
       "<div>\n",
       "<style scoped>\n",
       "    .dataframe tbody tr th:only-of-type {\n",
       "        vertical-align: middle;\n",
       "    }\n",
       "\n",
       "    .dataframe tbody tr th {\n",
       "        vertical-align: top;\n",
       "    }\n",
       "\n",
       "    .dataframe thead th {\n",
       "        text-align: right;\n",
       "    }\n",
       "</style>\n",
       "<table border=\"1\" class=\"dataframe\">\n",
       "  <thead>\n",
       "    <tr style=\"text-align: right;\">\n",
       "      <th></th>\n",
       "      <th>NUM BEN</th>\n",
       "      <th>BENEFICIARIO</th>\n",
       "      <th>RFC</th>\n",
       "      <th>FACTURA</th>\n",
       "      <th>CONTRATO</th>\n",
       "      <th>CONCEPTO</th>\n",
       "      <th>TIPO</th>\n",
       "      <th># OP</th>\n",
       "      <th>FECHA</th>\n",
       "      <th>IMPORTE</th>\n",
       "      <th>SHEET</th>\n",
       "      <th>DIA</th>\n",
       "      <th>MES</th>\n",
       "      <th>YEAR</th>\n",
       "      <th>BENEFICIARIO_SALES</th>\n",
       "      <th>IMPORTE_GASTO_PROMEDIO</th>\n",
       "      <th>HAS_LINKEDIN_SITE</th>\n",
       "    </tr>\n",
       "  </thead>\n",
       "  <tbody>\n",
       "    <tr>\n",
       "      <th>0</th>\n",
       "      <td>110152</td>\n",
       "      <td>161</td>\n",
       "      <td>167</td>\n",
       "      <td>1388</td>\n",
       "      <td>130</td>\n",
       "      <td>780</td>\n",
       "      <td>1</td>\n",
       "      <td>1019110.0</td>\n",
       "      <td>8</td>\n",
       "      <td>14911.8</td>\n",
       "      <td>2</td>\n",
       "      <td>11</td>\n",
       "      <td>12</td>\n",
       "      <td>2020</td>\n",
       "      <td>13</td>\n",
       "      <td>881659.731797</td>\n",
       "      <td>True</td>\n",
       "    </tr>\n",
       "    <tr>\n",
       "      <th>1</th>\n",
       "      <td>110152</td>\n",
       "      <td>161</td>\n",
       "      <td>167</td>\n",
       "      <td>1389</td>\n",
       "      <td>135</td>\n",
       "      <td>845</td>\n",
       "      <td>1</td>\n",
       "      <td>1019110.0</td>\n",
       "      <td>8</td>\n",
       "      <td>2528.8</td>\n",
       "      <td>2</td>\n",
       "      <td>11</td>\n",
       "      <td>12</td>\n",
       "      <td>2020</td>\n",
       "      <td>13</td>\n",
       "      <td>881659.731797</td>\n",
       "      <td>True</td>\n",
       "    </tr>\n",
       "  </tbody>\n",
       "</table>\n",
       "</div>"
      ],
      "text/plain": [
       "   NUM BEN  BENEFICIARIO  RFC  FACTURA  CONTRATO  CONCEPTO  TIPO       # OP  \\\n",
       "0   110152           161  167     1388       130       780     1  1019110.0   \n",
       "1   110152           161  167     1389       135       845     1  1019110.0   \n",
       "\n",
       "   FECHA  IMPORTE  SHEET  DIA  MES  YEAR  BENEFICIARIO_SALES  \\\n",
       "0      8  14911.8      2   11   12  2020                  13   \n",
       "1      8   2528.8      2   11   12  2020                  13   \n",
       "\n",
       "   IMPORTE_GASTO_PROMEDIO  HAS_LINKEDIN_SITE  \n",
       "0           881659.731797               True  \n",
       "1           881659.731797               True  "
      ]
     },
     "execution_count": 5,
     "metadata": {},
     "output_type": "execute_result"
    }
   ],
   "source": [
    "data.head(2)"
   ]
  },
  {
   "cell_type": "code",
   "execution_count": 6,
   "id": "db42acba",
   "metadata": {},
   "outputs": [],
   "source": [
    "from sklearn.ensemble import RandomForestRegressor\n",
    "from sklearn.model_selection import train_test_split "
   ]
  },
  {
   "cell_type": "code",
   "execution_count": 8,
   "id": "77e35aec",
   "metadata": {},
   "outputs": [],
   "source": [
    "# eliminamos variable a predcir \n",
    "y = data.pop('IMPORTE')\n",
    "X = data.copy()"
   ]
  },
  {
   "cell_type": "code",
   "execution_count": 9,
   "id": "669f5e2e",
   "metadata": {},
   "outputs": [],
   "source": [
    "X_train, X_test, y_train, y_test = train_test_split(X, y, test_size=0.33, random_state=42)"
   ]
  },
  {
   "cell_type": "code",
   "execution_count": 10,
   "id": "6c586fca",
   "metadata": {},
   "outputs": [],
   "source": [
    "clf = RandomForestRegressor(n_estimators=1000, max_depth = 4)"
   ]
  },
  {
   "cell_type": "code",
   "execution_count": 11,
   "id": "a8e2eec4",
   "metadata": {},
   "outputs": [
    {
     "data": {
      "text/plain": [
       "RandomForestRegressor(max_depth=4, n_estimators=1000)"
      ]
     },
     "execution_count": 11,
     "metadata": {},
     "output_type": "execute_result"
    }
   ],
   "source": [
    "clf.fit(X_train, y_train)"
   ]
  },
  {
   "cell_type": "code",
   "execution_count": 12,
   "id": "95249a6c",
   "metadata": {},
   "outputs": [],
   "source": [
    "# r2 escore es muy utilizado en vars categoricas \n",
    "from sklearn.metrics import r2_score"
   ]
  },
  {
   "cell_type": "code",
   "execution_count": 13,
   "id": "89992d7d",
   "metadata": {},
   "outputs": [
    {
     "data": {
      "text/plain": [
       "0.18642706972180811"
      ]
     },
     "execution_count": 13,
     "metadata": {},
     "output_type": "execute_result"
    }
   ],
   "source": [
    "r2_score(y_test, clf.predict(X_test))"
   ]
  },
  {
   "cell_type": "markdown",
   "id": "c4c19c16",
   "metadata": {},
   "source": [
    "# 2 modelo no supervisado o de clustering para texto\n",
    "la base de este analisis sera entender el uso de la libreria gensim la cual sirve para NLP. en resumen lo que haremos sera: \n",
    "1. crear una lista de la palabras unicas presentes en \"BENEFICIARIO\"\n",
    "2. limpiar la lista de palabras no utiles \n",
    "3. usando la lista creamos un dictionary gensim el cual asigna un indice unico por cada palabra d ela lista.\n",
    "4. pasamos el texto de cada \"BENEFICIARIO\" a formato bow, esto quiere decir a un fomato que indicque el indice de la palabra y cuantas veces aparecio \n",
    "5. creamos un modelo gensim el cual a partir de bow clusterize el texto contenido en \"BENEFICIARIO\"\n",
    "6. guardamos el dato del cluster en una nueva columna CLUSTER_NAME"
   ]
  },
  {
   "cell_type": "code",
   "execution_count": 14,
   "id": "0b989167",
   "metadata": {},
   "outputs": [],
   "source": [
    "import gensim\n",
    "from nltk.corpus import stopwords\n",
    "import numpy as np\n",
    "np.random.seed(2021)"
   ]
  },
  {
   "cell_type": "code",
   "execution_count": 15,
   "id": "d2c3701b",
   "metadata": {},
   "outputs": [],
   "source": [
    "# esta fucnion servira para limpiar un texto de stopwords(palabras conectivas sin valor de analisis)\n",
    "def preprocess(text):\n",
    "    result = []\n",
    "    for token in text.split(): # convertimos el parrafo en una lista de palabras\n",
    "        if token not in stopwords.words('spanish') and len(token)>4: # limpiamos las que esten en stopwords y con tamaño menor a 4\n",
    "            result.append(token)\n",
    "    return result"
   ]
  },
  {
   "cell_type": "code",
   "execution_count": 17,
   "id": "e33beff7",
   "metadata": {},
   "outputs": [],
   "source": [
    "# creremos una lista de beneficiarios pasados por la funcion de limpieza\n",
    "process_business = [preprocess(x) for x in list(df['BENEFICIARIO'].unique())]"
   ]
  },
  {
   "cell_type": "markdown",
   "id": "38974b02",
   "metadata": {},
   "source": [
    "el metodo gensim.corpora.Dictionary nos permite asignar un ID unico por cada palabra de una lista"
   ]
  },
  {
   "cell_type": "code",
   "execution_count": 18,
   "id": "71bc9fd8",
   "metadata": {},
   "outputs": [],
   "source": [
    "dictionary = gensim.corpora.Dictionary(process_business)"
   ]
  },
  {
   "cell_type": "code",
   "execution_count": 28,
   "id": "45fad336",
   "metadata": {},
   "outputs": [
    {
     "name": "stdout",
     "output_type": "stream",
     "text": [
      "578\n"
     ]
    },
    {
     "data": {
      "text/plain": [
       "[(0, 'ANAHUAC,S.A.'),\n",
       " (1, 'LLANTAS'),\n",
       " (2, 'SERNA'),\n",
       " (3, 'SERVICIOS'),\n",
       " (4, 'EQUIPO,')]"
      ]
     },
     "execution_count": 28,
     "metadata": {},
     "output_type": "execute_result"
    }
   ],
   "source": [
    "print(len(dictionary))\n",
    "list(dictionary.items())[:5]"
   ]
  },
  {
   "cell_type": "code",
   "execution_count": 42,
   "id": "7d7b3a4a",
   "metadata": {},
   "outputs": [
    {
     "name": "stdout",
     "output_type": "stream",
     "text": [
      "578\n"
     ]
    }
   ],
   "source": [
    "dictionary.filter_extremes(no_below=1, no_above=0.5) # quitar los que aparecen una vez, y si son mas que el 50% de los datos \n",
    "print(len(dictionary))"
   ]
  },
  {
   "cell_type": "code",
   "execution_count": 40,
   "id": "ca9175cb",
   "metadata": {},
   "outputs": [
    {
     "data": {
      "text/plain": [
       "'LLANTAS Y SERVICIOS SERNA ANAHUAC,S.A. DE C.V.'"
      ]
     },
     "execution_count": 40,
     "metadata": {},
     "output_type": "execute_result"
    }
   ],
   "source": [
    "df['BENEFICIARIO'].unique()[0]"
   ]
  },
  {
   "cell_type": "markdown",
   "id": "3598c45d",
   "metadata": {},
   "source": [
    "### gensim.corpora.Dictionary.doc2bow\n",
    "Convert document (a list of words) into the bag-of-words format = list of (token_id, token_count)\n",
    "\n",
    "ejemplo: \n",
    "\n",
    "dictionary = \n",
    "\n",
    "[(0, 'ANAHUAC,S.A.'),\n",
    " (1, 'LLANTAS'),\n",
    " (2, 'SERNA'),\n",
    " (3, 'SERVICIOS'),\n",
    " (4, 'EQUIPO,')]\n",
    "\n",
    " - con este diccionario pasaremos el siguiente texto: \n",
    " \n",
    " 'LLANTAS Y SERVICIOS SERNA ANAHUAC,S.A. DE C.V.'\n",
    "\n",
    " - al formato:\n",
    "\n",
    " [(0, 1), (1, 1), (2, 1), (3, 1)]\n",
    "\n",
    " que indica que la palabra con indice 0 aparece 1 sola vez en el texto \n"
   ]
  },
  {
   "cell_type": "code",
   "execution_count": 45,
   "id": "7ab18270",
   "metadata": {},
   "outputs": [
    {
     "name": "stdout",
     "output_type": "stream",
     "text": [
      "[(0, 1), (1, 1), (2, 1), (3, 1)]\n"
     ]
    }
   ],
   "source": [
    "bow_corpus = [dictionary.doc2bow(doc) for doc in process_business]\n",
    "print(bow_corpus[0])"
   ]
  },
  {
   "cell_type": "code",
   "execution_count": 46,
   "id": "73e8546d",
   "metadata": {},
   "outputs": [],
   "source": [
    "# creamos el modelo \n",
    "lda_model = gensim.models.LdaMulticore(bow_corpus, num_topics=6, id2word=dictionary, passes=10, workers=2)"
   ]
  },
  {
   "cell_type": "code",
   "execution_count": 47,
   "id": "7f54234c",
   "metadata": {},
   "outputs": [
    {
     "name": "stdout",
     "output_type": "stream",
     "text": [
      "Topic:4 Words:0.031*\"CONSTRUCTORA\" + 0.018*\"CONSTRUCCIONES\" + 0.018*\"MEXICO,\" + 0.010*\"NUEVO\" + 0.010*\"RAMIREZ\" + 0.010*\"SEGUROS\" + 0.010*\"INTEGRACION\" + 0.010*\"SEBASTIAN,\" + 0.010*\"ARRENDADORA\" + 0.010*\"GRUPO\"\n",
      "Topic:0 Words:0.010*\"DESARROLLOS\" + 0.010*\"GARZA\" + 0.010*\"GUERRERO\" + 0.010*\"INSTITUTO\" + 0.010*\"SALAZAR\" + 0.010*\"ADRIANA\" + 0.010*\"BANCO\" + 0.010*\"URBANIZACIONES\" + 0.010*\"IGNACIO\" + 0.010*\"JESUS\"\n"
     ]
    }
   ],
   "source": [
    "for idx, type_business in lda_model.print_topics(2):\n",
    "    print('Topic:{} Words:{}'.format(idx, type_business))\n",
    "# esto nos mostrara las palabras pertenecientes a un tema (cluster)"
   ]
  },
  {
   "cell_type": "code",
   "execution_count": 48,
   "id": "eaec8e86",
   "metadata": {},
   "outputs": [],
   "source": [
    "def get_max_topic(index):\n",
    "    results = lda_model[bow_corpus[index]]\n",
    "    return max(lda_model[results], key=lambda x: x[1])[0]"
   ]
  },
  {
   "cell_type": "code",
   "execution_count": 50,
   "id": "b21acf45",
   "metadata": {},
   "outputs": [],
   "source": [
    "business_cluster = {x: get_max_topic(i) for i, x in enumerate(list(df['BENEFICIARIO'].unique()))}"
   ]
  },
  {
   "cell_type": "code",
   "execution_count": 51,
   "id": "86b138be",
   "metadata": {},
   "outputs": [],
   "source": [
    "df['CLUSTER_NAME'] = df['BENEFICIARIO'].apply(lambda x: business_cluster[x])"
   ]
  },
  {
   "cell_type": "code",
   "execution_count": 52,
   "id": "6146f633",
   "metadata": {},
   "outputs": [
    {
     "data": {
      "text/plain": [
       "<AxesSubplot:xlabel='CLUSTER_NAME'>"
      ]
     },
     "execution_count": 52,
     "metadata": {},
     "output_type": "execute_result"
    },
    {
     "data": {
      "image/png": "[encoded data removed]",
      "text/plain": [
       "<Figure size 432x288 with 1 Axes>"
      ]
     },
     "metadata": {
      "needs_background": "light"
     },
     "output_type": "display_data"
    }
   ],
   "source": [
    "df.groupby('CLUSTER_NAME')['IMPORTE'].mean().plot.bar()\n",
    "# en esta grafica podemos ver el importe medio que ejecuto cada cluster"
   ]
  },
  {
   "cell_type": "markdown",
   "id": "9cce3377",
   "metadata": {},
   "source": [
    "# modelo no supervisado de anomalías en cuanto a importes\n",
    "en resumen usaremos una distribucion gaussiana y usaremos la funcion de distribucion acumulada para encontrar IMPORTES RAROS o outliers.   \n",
    "si recordamos las clases de estadistica, la distribucion gausiana es una funcion que nos ordena las datos diciendonos la probabilidad de que un dato especifico aparezca.   \n",
    "En este caso usaremos CDF ver mas abajo "
   ]
  },
  {
   "cell_type": "code",
   "execution_count": 53,
   "id": "817ee4b6",
   "metadata": {},
   "outputs": [],
   "source": [
    "import numpy as np\n",
    "from scipy.stats import norm"
   ]
  },
  {
   "cell_type": "markdown",
   "id": "ff60ccba",
   "metadata": {},
   "source": [
    "## CDF (cumulative distribution function)\n",
    "tells us the probability that a random variable takes on a value less than or equal to some value.\n",
    "nos dice la probabilidad de que una variable random tome un valor menor o igual a el valor probado. \n",
    "1. definimos la funcion de la curva de distribucion nornal : \n",
    "    - podemos pasar los datos en el fit o\n",
    "    - definirla a partir de la mean y std de los datos \n",
    "2. calculamos el cdf para cada valor de importe."
   ]
  },
  {
   "cell_type": "code",
   "execution_count": 57,
   "id": "73d4ca77",
   "metadata": {},
   "outputs": [
    {
     "data": {
      "text/plain": [
       "(626317.9473441559, 4665396.47441213)"
      ]
     },
     "execution_count": 57,
     "metadata": {},
     "output_type": "execute_result"
    }
   ],
   "source": [
    "params = norm.fit(df['IMPORTE'])\n",
    "params # regresa (mean, std) compruebalo usando: df['IMPORTE'].std()"
   ]
  },
  {
   "cell_type": "code",
   "execution_count": 64,
   "id": "f6843732",
   "metadata": {},
   "outputs": [],
   "source": [
    "# calculamos el cdf para cada valor de importe\n",
    "df['PROB_TOTAL'] = [norm(params[0], params[1]).cdf(x) for x in df['IMPORTE']]"
   ]
  },
  {
   "cell_type": "markdown",
   "id": "38fd8284",
   "metadata": {},
   "source": [
    "para entender lo que sucedio vamos a graficar la probabilidad para cada valor de importe. \n",
    "\n",
    "siendo x el valor de importe podemos decir que \"y\" es la probabilidad de que un valor aleatorio se menor o igual a x. \n",
    "\n",
    "por ejemplo vemos 2 puntos con IMPORTE = .8*10^8 =80,000,000 con un valor de cdf = 0.999, esto indica:  \n",
    " <b>\"hay una probabilidad de 99.9% de que una nuevo registro de IMPORTE sea menor o igual a 80 millones\" </b>\n",
    "\n",
    "\n",
    "viendo la grafica podemos vr otras cosas:\n",
    "- la distribucion esta sesgada a la derecha lo que quiere decir que tenemos la mayor parte de los datos en IMPORTES bajos concretamente menores a 10 millones"
   ]
  },
  {
   "cell_type": "code",
   "execution_count": 69,
   "id": "9c3c4a78",
   "metadata": {},
   "outputs": [
    {
     "data": {
      "image/png": "[encoded data removed]",
      "text/plain": [
       "<Figure size 432x288 with 1 Axes>"
      ]
     },
     "metadata": {
      "needs_background": "light"
     },
     "output_type": "display_data"
    }
   ],
   "source": [
    "import matplotlib.pyplot as plt\n",
    "plt.scatter(df['IMPORTE'],df['PROB_TOTAL'])\n",
    "plt.show()"
   ]
  },
  {
   "cell_type": "markdown",
   "id": "dc8d946c",
   "metadata": {},
   "source": [
    "en base a lo anterior podriamos ver los datos atipicos de gastos altos plateando lo siguiente:  \n",
    "\"cuales son los registros de importe que tienen un 5% la probabilidad de aparecer\"   \n",
    "en otras palabras estos son los importes RAROS"
   ]
  },
  {
   "cell_type": "code",
   "execution_count": 76,
   "id": "897e7946",
   "metadata": {},
   "outputs": [
    {
     "data": {
      "text/plain": [
       "16"
      ]
     },
     "execution_count": 76,
     "metadata": {},
     "output_type": "execute_result"
    }
   ],
   "source": [
    "len(df[df['PROB_TOTAL']> .95])# numero de importes raros  "
   ]
  },
  {
   "cell_type": "markdown",
   "id": "e248c753",
   "metadata": {},
   "source": [
    "dado que la columna SHEET contiene el sector donde se realizo el pago, podemos crear un diccionario que guarde un modelo cdf para cada sector."
   ]
  },
  {
   "cell_type": "code",
   "execution_count": 80,
   "id": "7e28409a",
   "metadata": {},
   "outputs": [
    {
     "data": {
      "text/plain": [
       "[('GASTOS VARIOS',\n",
       "  <scipy.stats._distn_infrastructure.rv_frozen at 0x2a9e1826c10>),\n",
       " ('CONTRATISTAS Y FDO FED',\n",
       "  <scipy.stats._distn_infrastructure.rv_frozen at 0x2a9e174e040>)]"
      ]
     },
     "execution_count": 80,
     "metadata": {},
     "output_type": "execute_result"
    }
   ],
   "source": [
    "models_sheet={}\n",
    "for sheet in list(df['SHEET'].unique()):\n",
    "    sheet_compras = df[df['SHEET'] == sheet]\n",
    "    params = norm.fit(sheet_compras['IMPORTE'])\n",
    "    models_sheet[sheet] = norm(params[0], params[1])\n",
    "list(models_sheet.items())[:2]"
   ]
  },
  {
   "cell_type": "code",
   "execution_count": 82,
   "id": "9c3ad6e0",
   "metadata": {},
   "outputs": [],
   "source": [
    "# calculamos el cdf de IMPORTE para cada fila dependiendo el SHEET, lo guardamos en una nueva columna\n",
    "sheet_prob = []\n",
    "for i, row in df.iterrows():\n",
    "    sheet_prob.append(models_sheet[row['SHEET']].cdf(row['IMPORTE']))\n",
    "df['PROB_SHEET'] = sheet_prob"
   ]
  },
  {
   "cell_type": "code",
   "execution_count": 88,
   "id": "c61f034a",
   "metadata": {},
   "outputs": [
    {
     "name": "stderr",
     "output_type": "stream",
     "text": [
      "c:\\Users\\Panda\\anaconda3\\lib\\site-packages\\seaborn\\_decorators.py:36: FutureWarning: Pass the following variables as keyword args: x, y. From version 0.12, the only valid positional argument will be `data`, and passing other arguments without an explicit keyword will result in an error or misinterpretation.\n",
      "  warnings.warn(\n"
     ]
    },
    {
     "data": {
      "image/png": "[encoded data removed]",
      "text/plain": [
       "<Figure size 526.625x360 with 1 Axes>"
      ]
     },
     "metadata": {
      "needs_background": "light"
     },
     "output_type": "display_data"
    }
   ],
   "source": [
    "import seaborn as sns \n",
    "sns.relplot(df['IMPORTE'],df['PROB_SHEET'], hue=df['SHEET'])\n",
    "plt.show()"
   ]
  },
  {
   "cell_type": "markdown",
   "id": "ead2e469",
   "metadata": {},
   "source": [
    "ahora tenemos una distribucion mas exacta que crreamos una curva de distribucion para cada sector.   \n",
    "vemos que en realidad hay 24 IMPORTES RAROS"
   ]
  },
  {
   "cell_type": "code",
   "execution_count": 89,
   "id": "14258be0",
   "metadata": {},
   "outputs": [
    {
     "data": {
      "text/plain": [
       "24"
      ]
     },
     "execution_count": 89,
     "metadata": {},
     "output_type": "execute_result"
    }
   ],
   "source": [
    "len(df[df['PROB_SHEET']>0.95])"
   ]
  },
  {
   "cell_type": "markdown",
   "id": "aa36c733",
   "metadata": {},
   "source": [
    "\n",
    "# Formulando conclusiones"
   ]
  },
  {
   "cell_type": "markdown",
   "id": "8008ad68",
   "metadata": {},
   "source": [
    "donde encontramos concluciones: \n",
    "* Plantear la tendencia central\n",
    "* Hay historias en los outeliers\n",
    "* Esfuerzate en contestar la pregunta original\n",
    "* Si tu enfoque cambio, documentalo."
   ]
  }
 ],
 "metadata": {
  "kernelspec": {
   "display_name": "Python 3.9.12 ('base')",
   "language": "python",
   "name": "python3"
  },
  "language_info": {
   "codemirror_mode": {
    "name": "ipython",
    "version": 3
   },
   "file_extension": ".py",
   "mimetype": "text/x-python",
   "name": "python",
   "nbconvert_exporter": "python",
   "pygments_lexer": "ipython3",
   "version": "3.9.12"
  },
  "vscode": {
   "interpreter": {
    "hash": "89700b826ea957244dd80a5eea6853c4d4fde16e09f6b962977bd16c6aae5fc9"
   }
  }
 },
 "nbformat": 4,
 "nbformat_minor": 5
}
